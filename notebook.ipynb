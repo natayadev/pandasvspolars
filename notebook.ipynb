{
  "cells": [
    {
      "cell_type": "markdown",
      "metadata": {
        "id": "2EzuAltplkRy"
      },
      "source": [
        "## 🐼 Pandas vs Polars 🧊"
      ]
    },
    {
      "cell_type": "markdown",
      "metadata": {
        "id": "XiC7b84Ol6XO"
      },
      "source": [
        "Instalamos las librerías necesarias:"
      ]
    },
    {
      "cell_type": "code",
      "execution_count": 1,
      "metadata": {
        "id": "CsC4onYrhIP0"
      },
      "outputs": [],
      "source": [
        "!pip install -q pandas polars"
      ]
    },
    {
      "cell_type": "markdown",
      "metadata": {
        "id": "OAjarhKPl9uV"
      },
      "source": [
        "Importamos esas librerías y añadimos un alias:"
      ]
    },
    {
      "cell_type": "code",
      "execution_count": 2,
      "metadata": {
        "id": "7WQIlMJglR5N"
      },
      "outputs": [],
      "source": [
        "import pandas as pd\n",
        "import polars as pl"
      ]
    },
    {
      "cell_type": "markdown",
      "metadata": {
        "id": "HmhEl3Q_mB_w"
      },
      "source": [
        "Lectura del archivo `network_traffic.csv` e impresión de sus primeras filas:"
      ]
    },
    {
      "cell_type": "code",
      "execution_count": 3,
      "metadata": {
        "colab": {
          "base_uri": "https://localhost:8080/"
        },
        "id": "8AAYjv82lKO7",
        "outputId": "5c5d06d7-b71b-49d8-ba66-1c3453afff89"
      },
      "outputs": [
        {
          "name": "stdout",
          "output_type": "stream",
          "text": [
            "shape: (5, 6)\n",
            "┌────────────────────┬────────────────────┬──────────┬────────────┬────────────────┬───────────────┐\n",
            "│ source_ip          ┆ destination_ip     ┆ protocol ┆ bytes_sent ┆ bytes_received ┆ timestamp     │\n",
            "│ ---                ┆ ---                ┆ ---      ┆ ---        ┆ ---            ┆ ---           │\n",
            "│ str                ┆ str                ┆ str      ┆ i64        ┆ i64            ┆ i64           │\n",
            "╞════════════════════╪════════════════════╪══════════╪════════════╪════════════════╪═══════════════╡\n",
            "│ 141.242.218.133/9  ┆ 54.53.23.47/7      ┆ HDLC     ┆ 13715      ┆ 3517           ┆ 1728259200000 │\n",
            "│ 253.157.170.255/12 ┆ 241.85.142.207/20  ┆ CIFS     ┆ 14460      ┆ 10207          ┆ 1728259200000 │\n",
            "│ 0.124.74.56/29     ┆ 238.230.209.205/29 ┆ HTTPS    ┆ 5062       ┆ 8908           ┆ 1728259200000 │\n",
            "│ 202.51.193.244/15  ┆ 177.108.193.87/26  ┆ IGMP     ┆ 3682       ┆ 4757           ┆ 1728259200000 │\n",
            "│ 210.23.143.230/17  ┆ 164.62.129.214/1   ┆ DNS      ┆ 12393      ┆ 2478           ┆ 1728259200000 │\n",
            "└────────────────────┴────────────────────┴──────────┴────────────┴────────────────┴───────────────┘\n",
            "CPU times: user 59.4 ms, sys: 11.1 ms, total: 70.5 ms\n",
            "Wall time: 87.6 ms\n"
          ]
        }
      ],
      "source": [
        "%%time\n",
        "df_pl = pl.read_csv('data\\\\network_traffic.csv')\n",
        "print(df_pl.head()) #Polars"
      ]
    },
    {
      "cell_type": "code",
      "execution_count": 4,
      "metadata": {
        "colab": {
          "base_uri": "https://localhost:8080/"
        },
        "id": "p7bQo4lTlcka",
        "outputId": "78d01c9c-54de-4952-b907-2bdb72c0b298"
      },
      "outputs": [
        {
          "name": "stdout",
          "output_type": "stream",
          "text": [
            "            source_ip      destination_ip protocol  bytes_sent  \\\n",
            "0   141.242.218.133/9       54.53.23.47/7     HDLC       13715   \n",
            "1  253.157.170.255/12   241.85.142.207/20     CIFS       14460   \n",
            "2      0.124.74.56/29  238.230.209.205/29    HTTPS        5062   \n",
            "3   202.51.193.244/15   177.108.193.87/26     IGMP        3682   \n",
            "4   210.23.143.230/17    164.62.129.214/1      DNS       12393   \n",
            "\n",
            "   bytes_received      timestamp  \n",
            "0            3517  1728259200000  \n",
            "1           10207  1728259200000  \n",
            "2            8908  1728259200000  \n",
            "3            4757  1728259200000  \n",
            "4            2478  1728259200000  \n",
            "CPU times: user 34.3 ms, sys: 5.74 ms, total: 40 ms\n",
            "Wall time: 64.8 ms\n"
          ]
        }
      ],
      "source": [
        "%%time\n",
        "df_pd = pd.read_csv('data\\\\network_traffic.csv')\n",
        "print(df_pd.head()) #Pandas"
      ]
    },
    {
      "cell_type": "markdown",
      "metadata": {
        "id": "eMi_Cuy0mOTo"
      },
      "source": [
        "Resumen de los datos del .csv:"
      ]
    },
    {
      "cell_type": "code",
      "execution_count": 5,
      "metadata": {
        "colab": {
          "base_uri": "https://localhost:8080/"
        },
        "id": "Y32ftmCgnCjI",
        "outputId": "9bb92afd-297c-4e6c-95a3-3990a34fc5eb"
      },
      "outputs": [
        {
          "name": "stdout",
          "output_type": "stream",
          "text": [
            "shape: (9, 7)\n",
            "┌────────────┬────────────────┬───────────────┬──────────┬─────────────┬───────────────┬───────────┐\n",
            "│ statistic  ┆ source_ip      ┆ destination_i ┆ protocol ┆ bytes_sent  ┆ bytes_receive ┆ timestamp │\n",
            "│ ---        ┆ ---            ┆ p             ┆ ---      ┆ ---         ┆ d             ┆ ---       │\n",
            "│ str        ┆ str            ┆ ---           ┆ str      ┆ f64         ┆ ---           ┆ f64       │\n",
            "│            ┆                ┆ str           ┆          ┆             ┆ f64           ┆           │\n",
            "╞════════════╪════════════════╪═══════════════╪══════════╪═════════════╪═══════════════╪═══════════╡\n",
            "│ count      ┆ 10000          ┆ 10000         ┆ 10000    ┆ 10000.0     ┆ 10000.0       ┆ 10000.0   │\n",
            "│ null_count ┆ 0              ┆ 0             ┆ 0        ┆ 0.0         ┆ 0.0           ┆ 0.0       │\n",
            "│ mean       ┆ null           ┆ null          ┆ null     ┆ 7477.459    ┆ 7483.1792     ┆ 1.7283e12 │\n",
            "│ std        ┆ null           ┆ null          ┆ null     ┆ 4319.571275 ┆ 4356.466664   ┆ 0.0       │\n",
            "│ min        ┆ 0.0.148.3/3    ┆ 0.10.184.38/2 ┆ AH       ┆ 2.0         ┆ 0.0           ┆ 1.7283e12 │\n",
            "│            ┆                ┆ 9             ┆          ┆             ┆               ┆           │\n",
            "│ 25%        ┆ null           ┆ null          ┆ null     ┆ 3752.0      ┆ 3705.0        ┆ 1.7283e12 │\n",
            "│ 50%        ┆ null           ┆ null          ┆ null     ┆ 7468.0      ┆ 7484.0        ┆ 1.7283e12 │\n",
            "│ 75%        ┆ null           ┆ null          ┆ null     ┆ 11240.0     ┆ 11262.0       ┆ 1.7283e12 │\n",
            "│ max        ┆ 99.96.177.212/ ┆ 99.99.35.194/ ┆ VTP      ┆ 14996.0     ┆ 14999.0       ┆ 1.7283e12 │\n",
            "│            ┆ 28             ┆ 30            ┆          ┆             ┆               ┆           │\n",
            "└────────────┴────────────────┴───────────────┴──────────┴─────────────┴───────────────┴───────────┘\n",
            "[String, String, String, Int64, Int64, Int64]\n"
          ]
        }
      ],
      "source": [
        "# Polars\n",
        "print(df_pl.describe())\n",
        "print(df_pl.dtypes)"
      ]
    },
    {
      "cell_type": "code",
      "execution_count": 6,
      "metadata": {
        "colab": {
          "base_uri": "https://localhost:8080/"
        },
        "id": "wfr_vhcdnT28",
        "outputId": "d28f9b8b-66e1-44bb-f28e-a136a1109c3b"
      },
      "outputs": [
        {
          "name": "stdout",
          "output_type": "stream",
          "text": [
            "         bytes_sent  bytes_received     timestamp\n",
            "count  10000.000000    10000.000000  1.000000e+04\n",
            "mean    7477.459000     7483.179200  1.728259e+12\n",
            "std     4319.571275     4356.466664  0.000000e+00\n",
            "min        2.000000        0.000000  1.728259e+12\n",
            "25%     3751.750000     3704.250000  1.728259e+12\n",
            "50%     7467.500000     7483.000000  1.728259e+12\n",
            "75%    11240.250000    11262.500000  1.728259e+12\n",
            "max    14996.000000    14999.000000  1.728259e+12\n",
            "source_ip         object\n",
            "destination_ip    object\n",
            "protocol          object\n",
            "bytes_sent         int64\n",
            "bytes_received     int64\n",
            "timestamp          int64\n",
            "dtype: object\n"
          ]
        }
      ],
      "source": [
        "# Pandas\n",
        "print(df_pd.describe())\n",
        "print(df_pd.dtypes)"
      ]
    },
    {
      "cell_type": "markdown",
      "metadata": {
        "id": "asCPc5uRsQDG"
      },
      "source": [
        "Calculamos el número de valores únicos en la columna `source_ip`:"
      ]
    },
    {
      "cell_type": "code",
      "execution_count": 7,
      "metadata": {
        "colab": {
          "base_uri": "https://localhost:8080/"
        },
        "id": "IZ2XsnEAsref",
        "outputId": "ba8f9b07-08e4-4cd6-e5ec-3cda5155995e"
      },
      "outputs": [
        {
          "name": "stdout",
          "output_type": "stream",
          "text": [
            "Número de IPs únicas: 10000\n",
            "CPU times: user 1.65 ms, sys: 0 ns, total: 1.65 ms\n",
            "Wall time: 1.66 ms\n"
          ]
        }
      ],
      "source": [
        "%%time\n",
        "unique_ips = df_pl.select(pl.col(\"source_ip\").n_unique()).item()\n",
        "print(f\"Número de IPs únicas: {unique_ips}\") # Polars"
      ]
    },
    {
      "cell_type": "code",
      "execution_count": 8,
      "metadata": {
        "colab": {
          "base_uri": "https://localhost:8080/"
        },
        "id": "rzmB0sB2sQMl",
        "outputId": "f6acadd9-d805-40cc-c529-5974baa7a0e2"
      },
      "outputs": [
        {
          "name": "stdout",
          "output_type": "stream",
          "text": [
            "Número de IPs únicas: 10000\n",
            "CPU times: user 4.53 ms, sys: 0 ns, total: 4.53 ms\n",
            "Wall time: 11.7 ms\n"
          ]
        }
      ],
      "source": [
        "%%time\n",
        "unique_ips = df_pd['source_ip'].nunique()\n",
        "print(f\"Número de IPs únicas: {unique_ips}\") # Pandas"
      ]
    },
    {
      "cell_type": "markdown",
      "metadata": {
        "id": "onb99IrUsZWq"
      },
      "source": [
        "Calculamos el número de valores nulos en la columna `destination_ip`:"
      ]
    },
    {
      "cell_type": "code",
      "execution_count": 9,
      "metadata": {
        "colab": {
          "base_uri": "https://localhost:8080/"
        },
        "id": "8ROcoeHZsZfh",
        "outputId": "74dba9bc-f84b-4a9d-827e-27c80471dbe7"
      },
      "outputs": [
        {
          "name": "stdout",
          "output_type": "stream",
          "text": [
            "Número de destinos nulos: 0\n",
            "CPU times: user 473 µs, sys: 0 ns, total: 473 µs\n",
            "Wall time: 481 µs\n"
          ]
        }
      ],
      "source": [
        "%%time\n",
        "null_destinations = df_pl.select(pl.col(\"destination_ip\").is_null().sum()).item()\n",
        "print(f\"Número de destinos nulos: {null_destinations}\") # Polars"
      ]
    },
    {
      "cell_type": "code",
      "execution_count": 10,
      "metadata": {
        "colab": {
          "base_uri": "https://localhost:8080/"
        },
        "id": "UNdacvRPsZeJ",
        "outputId": "fbb26cd7-805c-4696-8888-a92a28c77014"
      },
      "outputs": [
        {
          "name": "stdout",
          "output_type": "stream",
          "text": [
            "Número de destinos nulos: 0\n",
            "CPU times: user 715 µs, sys: 961 µs, total: 1.68 ms\n",
            "Wall time: 1.68 ms\n"
          ]
        }
      ],
      "source": [
        "%%time\n",
        "null_destinations = df_pd['destination_ip'].isnull().sum()\n",
        "print(f\"Número de destinos nulos: {null_destinations}\") # Pandas"
      ]
    },
    {
      "cell_type": "markdown",
      "metadata": {
        "id": "bjbEdHwJnhTU"
      },
      "source": [
        "Filtramos los datos por protocolo:"
      ]
    },
    {
      "cell_type": "code",
      "execution_count": 11,
      "metadata": {
        "colab": {
          "base_uri": "https://localhost:8080/"
        },
        "id": "cQ_jCSvBnkJo",
        "outputId": "444378e6-b856-4045-dea9-93827f5efcae"
      },
      "outputs": [
        {
          "name": "stdout",
          "output_type": "stream",
          "text": [
            "shape: (208, 6)\n",
            "┌────────────────────┬────────────────────┬──────────┬────────────┬────────────────┬───────────────┐\n",
            "│ source_ip          ┆ destination_ip     ┆ protocol ┆ bytes_sent ┆ bytes_received ┆ timestamp     │\n",
            "│ ---                ┆ ---                ┆ ---      ┆ ---        ┆ ---            ┆ ---           │\n",
            "│ str                ┆ str                ┆ str      ┆ i64        ┆ i64            ┆ i64           │\n",
            "╞════════════════════╪════════════════════╪══════════╪════════════╪════════════════╪═══════════════╡\n",
            "│ 93.189.74.34/10    ┆ 55.139.190.126/23  ┆ TCP      ┆ 6700       ┆ 266            ┆ 1728259200000 │\n",
            "│ 38.51.153.186/7    ┆ 237.121.250.128/8  ┆ TCP      ┆ 12549      ┆ 2520           ┆ 1728259200000 │\n",
            "│ 88.225.230.241/22  ┆ 159.178.128.80/18  ┆ TCP      ┆ 5633       ┆ 9830           ┆ 1728259200000 │\n",
            "│ 219.234.59.39/10   ┆ 224.57.88.45/23    ┆ TCP      ┆ 10496      ┆ 6667           ┆ 1728259200000 │\n",
            "│ 63.17.221.1/18     ┆ 70.84.1.17/24      ┆ TCP      ┆ 13763      ┆ 9881           ┆ 1728259200000 │\n",
            "│ …                  ┆ …                  ┆ …        ┆ …          ┆ …              ┆ …             │\n",
            "│ 81.183.174.166/24  ┆ 3.71.47.205/2      ┆ TCP      ┆ 10529      ┆ 4067           ┆ 1728259200000 │\n",
            "│ 170.192.188.147/12 ┆ 109.169.199.51/8   ┆ TCP      ┆ 144        ┆ 3128           ┆ 1728259200000 │\n",
            "│ 251.86.93.178/8    ┆ 174.26.191.175/4   ┆ TCP      ┆ 17         ┆ 393            ┆ 1728259200000 │\n",
            "│ 153.215.123.88/19  ┆ 237.181.229.145/29 ┆ TCP      ┆ 14330      ┆ 3840           ┆ 1728259200000 │\n",
            "│ 207.51.195.244/15  ┆ 177.108.193.87/26  ┆ TCP      ┆ 3682       ┆ 4757           ┆ 1728259200000 │\n",
            "└────────────────────┴────────────────────┴──────────┴────────────┴────────────────┴───────────────┘\n",
            "CPU times: user 1.35 ms, sys: 203 µs, total: 1.56 ms\n",
            "Wall time: 4.85 ms\n"
          ]
        }
      ],
      "source": [
        "%%time\n",
        "tcp_traffic = df_pl.filter(pl.col('protocol') == 'TCP')\n",
        "print(tcp_traffic) # Polars"
      ]
    },
    {
      "cell_type": "code",
      "execution_count": 12,
      "metadata": {
        "colab": {
          "base_uri": "https://localhost:8080/"
        },
        "id": "XOT1XDJMnkP8",
        "outputId": "c22a8cd0-6ee8-4da4-ab60-d93547ff3b2f"
      },
      "outputs": [
        {
          "name": "stdout",
          "output_type": "stream",
          "text": [
            "               source_ip      destination_ip protocol  bytes_sent  \\\n",
            "19       93.189.74.34/10   55.139.190.126/23      TCP        6700   \n",
            "23       38.51.153.186/7   237.121.250.128/8      TCP       12549   \n",
            "111    88.225.230.241/22   159.178.128.80/18      TCP        5633   \n",
            "159     219.234.59.39/10     224.57.88.45/23      TCP       10496   \n",
            "184       63.17.221.1/18       70.84.1.17/24      TCP       13763   \n",
            "...                  ...                 ...      ...         ...   \n",
            "9733   81.183.174.166/24       3.71.47.205/2      TCP       10529   \n",
            "9743  170.192.188.147/12    109.169.199.51/8      TCP         144   \n",
            "9934     251.86.93.178/8    174.26.191.175/4      TCP          17   \n",
            "9981   153.215.123.88/19  237.181.229.145/29      TCP       14330   \n",
            "9999   207.51.195.244/15   177.108.193.87/26      TCP        3682   \n",
            "\n",
            "      bytes_received      timestamp  \n",
            "19               266  1728259200000  \n",
            "23              2520  1728259200000  \n",
            "111             9830  1728259200000  \n",
            "159             6667  1728259200000  \n",
            "184             9881  1728259200000  \n",
            "...              ...            ...  \n",
            "9733            4067  1728259200000  \n",
            "9743            3128  1728259200000  \n",
            "9934             393  1728259200000  \n",
            "9981            3840  1728259200000  \n",
            "9999            4757  1728259200000  \n",
            "\n",
            "[208 rows x 6 columns]\n",
            "CPU times: user 12.2 ms, sys: 0 ns, total: 12.2 ms\n",
            "Wall time: 75.8 ms\n"
          ]
        }
      ],
      "source": [
        "%%time\n",
        "tcp_traffic = df_pd[df_pd['protocol'] == 'TCP']\n",
        "print(tcp_traffic) # Pandas"
      ]
    },
    {
      "cell_type": "markdown",
      "metadata": {
        "id": "gBmWe0lfn6Oe"
      },
      "source": [
        "Agrupamos por IP y sumamos los bytes enviados:"
      ]
    },
    {
      "cell_type": "code",
      "execution_count": 13,
      "metadata": {
        "colab": {
          "base_uri": "https://localhost:8080/"
        },
        "id": "5x15gVOln_JI",
        "outputId": "bd301695-b867-4804-80ce-9e9d6eded02c"
      },
      "outputs": [
        {
          "name": "stdout",
          "output_type": "stream",
          "text": [
            "shape: (10_000, 2)\n",
            "┌───────────────────┬──────────────────┐\n",
            "│ source_ip         ┆ total_bytes_sent │\n",
            "│ ---               ┆ ---              │\n",
            "│ str               ┆ i64              │\n",
            "╞═══════════════════╪══════════════════╡\n",
            "│ 85.141.26.162/29  ┆ 7404             │\n",
            "│ 228.63.92.234/18  ┆ 12098            │\n",
            "│ 109.136.62.231/23 ┆ 5245             │\n",
            "│ 37.59.171.191/17  ┆ 5482             │\n",
            "│ 255.151.177.149/4 ┆ 3641             │\n",
            "│ …                 ┆ …                │\n",
            "│ 32.205.137.130/7  ┆ 3524             │\n",
            "│ 80.138.21.198/5   ┆ 2527             │\n",
            "│ 178.190.25.142/14 ┆ 8459             │\n",
            "│ 166.215.244.242/8 ┆ 3616             │\n",
            "│ 74.181.39.240/20  ┆ 150              │\n",
            "└───────────────────┴──────────────────┘\n",
            "CPU times: user 6.42 ms, sys: 1.92 ms, total: 8.33 ms\n",
            "Wall time: 15.8 ms\n"
          ]
        }
      ],
      "source": [
        "%%time\n",
        "grouped_data = df_pl.group_by('source_ip').agg([pl.sum('bytes_sent').alias('total_bytes_sent')])\n",
        "print(grouped_data) # Polars"
      ]
    },
    {
      "cell_type": "code",
      "execution_count": 14,
      "metadata": {
        "colab": {
          "base_uri": "https://localhost:8080/"
        },
        "id": "QYTXqDDfn_M9",
        "outputId": "5a8e792c-51eb-4f4a-b308-ded631418e95"
      },
      "outputs": [
        {
          "name": "stdout",
          "output_type": "stream",
          "text": [
            "             source_ip  bytes_sent\n",
            "0          0.0.148.3/3       13266\n",
            "1     0.108.239.134/10        2583\n",
            "2     0.114.231.169/12        9958\n",
            "3       0.124.74.56/29        5062\n",
            "4      0.126.64.123/31        1474\n",
            "...                ...         ...\n",
            "9995   99.69.117.156/2        7281\n",
            "9996   99.7.148.133/21        8919\n",
            "9997   99.73.89.117/29       13480\n",
            "9998  99.75.241.118/31        4096\n",
            "9999  99.96.177.212/28        9705\n",
            "\n",
            "[10000 rows x 2 columns]\n",
            "CPU times: user 28.1 ms, sys: 242 µs, total: 28.3 ms\n",
            "Wall time: 84.7 ms\n"
          ]
        }
      ],
      "source": [
        "%%time\n",
        "grouped_data = df_pd.groupby('source_ip')['bytes_sent'].sum().reset_index()\n",
        "print(grouped_data) # Pandas"
      ]
    },
    {
      "cell_type": "markdown",
      "metadata": {
        "id": "dlsAYaI8obsk"
      },
      "source": [
        " Calculamos el percentil 99 para encontrar posibles anomalías y filtramos los valores atípicos:"
      ]
    },
    {
      "cell_type": "code",
      "execution_count": 15,
      "metadata": {
        "colab": {
          "base_uri": "https://localhost:8080/"
        },
        "id": "L_tFmu7npRrg",
        "outputId": "f1aba86d-d889-4000-ff74-52dcc1c1f2b7"
      },
      "outputs": [
        {
          "name": "stdout",
          "output_type": "stream",
          "text": [
            "IPs con tráfico inusual: shape: (99, 6)\n",
            "┌────────────────────┬────────────────────┬──────────┬────────────┬────────────────┬───────────────┐\n",
            "│ source_ip          ┆ destination_ip     ┆ protocol ┆ bytes_sent ┆ bytes_received ┆ timestamp     │\n",
            "│ ---                ┆ ---                ┆ ---      ┆ ---        ┆ ---            ┆ ---           │\n",
            "│ str                ┆ str                ┆ str      ┆ i64        ┆ i64            ┆ i64           │\n",
            "╞════════════════════╪════════════════════╪══════════╪════════════╪════════════════╪═══════════════╡\n",
            "│ 141.158.124.165/31 ┆ 116.34.198.86/31   ┆ DCCP     ┆ 14883      ┆ 6130           ┆ 1728259200000 │\n",
            "│ 98.190.38.213/25   ┆ 127.253.35.84/9    ┆ SNMP     ┆ 14871      ┆ 14913          ┆ 1728259200000 │\n",
            "│ 51.202.136.19/26   ┆ 133.201.93.92/26   ┆ CIFS     ┆ 14960      ┆ 8285           ┆ 1728259200000 │\n",
            "│ 78.188.134.0/7     ┆ 69.233.216.221/2   ┆ HDLC     ┆ 14961      ┆ 4625           ┆ 1728259200000 │\n",
            "│ 38.25.63.65/10     ┆ 194.28.245.56/27   ┆ NDP      ┆ 14927      ┆ 10423          ┆ 1728259200000 │\n",
            "│ …                  ┆ …                  ┆ …        ┆ …          ┆ …              ┆ …             │\n",
            "│ 75.98.224.175/26   ┆ 8.250.96.6/11      ┆ BGP      ┆ 14862      ┆ 4921           ┆ 1728259200000 │\n",
            "│ 156.21.234.27/26   ┆ 180.146.165.176/31 ┆ RDP      ┆ 14994      ┆ 13003          ┆ 1728259200000 │\n",
            "│ 186.249.53.62/18   ┆ 162.26.187.12/10   ┆ ICMP     ┆ 14930      ┆ 9393           ┆ 1728259200000 │\n",
            "│ 18.239.227.169/17  ┆ 4.23.49.100/17     ┆ ARP      ┆ 14973      ┆ 4203           ┆ 1728259200000 │\n",
            "│ 163.1.120.162/10   ┆ 121.98.201.48/25   ┆ DNS      ┆ 14949      ┆ 1082           ┆ 1728259200000 │\n",
            "└────────────────────┴────────────────────┴──────────┴────────────┴────────────────┴───────────────┘\n",
            "CPU times: user 3.54 ms, sys: 77 µs, total: 3.61 ms\n",
            "Wall time: 11.9 ms\n"
          ]
        }
      ],
      "source": [
        "%%time\n",
        "threshold = df_pl.select(pl.quantile(\"bytes_sent\", 0.99)).item()\n",
        "anomalous_traffic = df_pl.filter(pl.col(\"bytes_sent\") > threshold)\n",
        "\n",
        "print(f\"IPs con tráfico inusual: {anomalous_traffic}\") # Polars"
      ]
    },
    {
      "cell_type": "code",
      "execution_count": 16,
      "metadata": {
        "colab": {
          "base_uri": "https://localhost:8080/"
        },
        "id": "M13Cs0x1ob0T",
        "outputId": "c952d8c1-e672-4d56-f6e0-c7bedf7e988d"
      },
      "outputs": [
        {
          "name": "stdout",
          "output_type": "stream",
          "text": [
            "IPs con tráfico inusual:                source_ip      destination_ip protocol  bytes_sent  \\\n",
            "85    141.158.124.165/31    116.34.198.86/31     DCCP       14883   \n",
            "99      98.190.38.213/25     127.253.35.84/9     SNMP       14871   \n",
            "393     51.202.136.19/26    133.201.93.92/26     CIFS       14960   \n",
            "425       78.188.134.0/7    69.233.216.221/2     HDLC       14961   \n",
            "449       38.25.63.65/10    194.28.245.56/27      NDP       14927   \n",
            "...                  ...                 ...      ...         ...   \n",
            "9479    75.98.224.175/26       8.250.96.6/11      BGP       14862   \n",
            "9619    156.21.234.27/26  180.146.165.176/31      RDP       14994   \n",
            "9730    186.249.53.62/18    162.26.187.12/10     ICMP       14930   \n",
            "9740   18.239.227.169/17      4.23.49.100/17      ARP       14973   \n",
            "9960    163.1.120.162/10    121.98.201.48/25      DNS       14949   \n",
            "\n",
            "      bytes_received      timestamp  \n",
            "85              6130  1728259200000  \n",
            "99             14913  1728259200000  \n",
            "393             8285  1728259200000  \n",
            "425             4625  1728259200000  \n",
            "449            10423  1728259200000  \n",
            "...              ...            ...  \n",
            "9479            4921  1728259200000  \n",
            "9619           13003  1728259200000  \n",
            "9730            9393  1728259200000  \n",
            "9740            4203  1728259200000  \n",
            "9960            1082  1728259200000  \n",
            "\n",
            "[99 rows x 6 columns]\n",
            "CPU times: user 10.2 ms, sys: 25 µs, total: 10.2 ms\n",
            "Wall time: 19.9 ms\n"
          ]
        }
      ],
      "source": [
        "%%time\n",
        "threshold = df_pd[\"bytes_sent\"].quantile(0.99)\n",
        "anomalous_traffic = df_pd[df_pd[\"bytes_sent\"] > threshold]\n",
        "\n",
        "print(f\"IPs con tráfico inusual: {anomalous_traffic}\") # Pandas"
      ]
    }
  ],
  "metadata": {
    "colab": {
      "provenance": []
    },
    "kernelspec": {
      "display_name": "Python 3",
      "name": "python3"
    },
    "language_info": {
      "name": "python"
    }
  },
  "nbformat": 4,
  "nbformat_minor": 0
}
